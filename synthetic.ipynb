{
 "cells": [
  {
   "cell_type": "code",
   "execution_count": 1,
   "metadata": {},
   "outputs": [],
   "source": [
    "import pandas as pd\n",
    "import numpy as np\n",
    "import matplotlib.pyplot as plt\n",
    "import urllib.request\n",
    "from konlpy.tag import Mecab\n",
    "from tqdm import tqdm\n",
    "import re\n",
    "\n",
    "import collections\n",
    "import seaborn as sns"
   ]
  },
  {
   "cell_type": "code",
   "execution_count": 2,
   "metadata": {},
   "outputs": [],
   "source": [
    "#한글 깨짐 처리\n",
    "import os\n",
    "\n",
    "if os.name == 'posix':\n",
    "    plt.rc(\"font\", family=\"AppleGothic\")\n",
    "\n",
    "else :\n",
    "    plt.rc(\"font\", family=\"Malgun Gothic\")\n",
    "\n",
    "%config InlineBackend.figure_format = 'retina'"
   ]
  },
  {
   "cell_type": "code",
   "execution_count": 3,
   "metadata": {},
   "outputs": [],
   "source": [
    "train = pd.read_csv(\"capstone_dataset/train.csv\")"
   ]
  },
  {
   "cell_type": "code",
   "execution_count": 4,
   "metadata": {},
   "outputs": [
    {
     "data": {
      "text/plain": [
       "Index(['id', 'title', 'body', 'category', 'label'], dtype='object')"
      ]
     },
     "execution_count": 4,
     "metadata": {},
     "output_type": "execute_result"
    }
   ],
   "source": [
    "train.columns"
   ]
  },
  {
   "cell_type": "code",
   "execution_count": 16,
   "metadata": {},
   "outputs": [],
   "source": [
    "true_df = train[train['label']==0]"
   ]
  },
  {
   "cell_type": "code",
   "execution_count": 17,
   "metadata": {},
   "outputs": [
    {
     "data": {
      "text/plain": [
       "7    12903\n",
       "6    10955\n",
       "2     8875\n",
       "3     8240\n",
       "1     5981\n",
       "4     2887\n",
       "5      145\n",
       "0       11\n",
       "8        3\n",
       "Name: category, dtype: int64"
      ]
     },
     "execution_count": 17,
     "metadata": {},
     "output_type": "execute_result"
    }
   ],
   "source": [
    "true_df.category.value_counts()"
   ]
  },
  {
   "cell_type": "code",
   "execution_count": 18,
   "metadata": {
    "scrolled": true
   },
   "outputs": [
    {
     "data": {
      "text/plain": [
       "50000"
      ]
     },
     "execution_count": 18,
     "metadata": {},
     "output_type": "execute_result"
    }
   ],
   "source": [
    "len(true_df)"
   ]
  },
  {
   "cell_type": "markdown",
   "metadata": {},
   "source": [
    "- category : 0~8\n",
    "- 5,0,8은 다 사용하고, 나머지는 앞에 1000개 target 사용하기/ 뒤에 1000개 sample용\n",
    "- target 3부분으로 나누기. 30%, 70%지점으로 끊기\n",
    "- t1,t2,t3/s1,s2,s3\n",
    "- type A : t1,t2,/s2,s3/,t3\n",
    "- type B :t1,sample dataset, t3\n",
    "- type C : t1, /s2,s3\n",
    "- type D : s1,/ t2/, s3\n",
    "\n",
    "category 9개 * type 4개 => 1000개 데이터 * 각 "
   ]
  },
  {
   "cell_type": "code",
   "execution_count": 15,
   "metadata": {
    "scrolled": true
   },
   "outputs": [
    {
     "data": {
      "text/html": [
       "<div>\n",
       "<style scoped>\n",
       "    .dataframe tbody tr th:only-of-type {\n",
       "        vertical-align: middle;\n",
       "    }\n",
       "\n",
       "    .dataframe tbody tr th {\n",
       "        vertical-align: top;\n",
       "    }\n",
       "\n",
       "    .dataframe thead th {\n",
       "        text-align: right;\n",
       "    }\n",
       "</style>\n",
       "<table border=\"1\" class=\"dataframe\">\n",
       "  <thead>\n",
       "    <tr style=\"text-align: right;\">\n",
       "      <th></th>\n",
       "      <th>id</th>\n",
       "      <th>title</th>\n",
       "      <th>body</th>\n",
       "      <th>category</th>\n",
       "      <th>label</th>\n",
       "    </tr>\n",
       "  </thead>\n",
       "  <tbody>\n",
       "    <tr>\n",
       "      <th>0</th>\n",
       "      <td>AKR20191006026700004</td>\n",
       "      <td>공소시효 만료로 수배 해제 5년간 2만3천건…하루 13건꼴</td>\n",
       "      <td>공소시효가 만료돼 수배가 해제되는 사건이 하루 12∼13건꼴인 것으로 조사됐다. 6...</td>\n",
       "      <td>3</td>\n",
       "      <td>0</td>\n",
       "    </tr>\n",
       "  </tbody>\n",
       "</table>\n",
       "</div>"
      ],
      "text/plain": [
       "                     id                             title  \\\n",
       "0  AKR20191006026700004  공소시효 만료로 수배 해제 5년간 2만3천건…하루 13건꼴   \n",
       "\n",
       "                                                body  category  label  \n",
       "0  공소시효가 만료돼 수배가 해제되는 사건이 하루 12∼13건꼴인 것으로 조사됐다. 6...         3      0  "
      ]
     },
     "execution_count": 15,
     "metadata": {},
     "output_type": "execute_result"
    }
   ],
   "source": [
    "train.head(1)"
   ]
  },
  {
   "cell_type": "code",
   "execution_count": 61,
   "metadata": {},
   "outputs": [
    {
     "data": {
      "text/html": [
       "<div>\n",
       "<style scoped>\n",
       "    .dataframe tbody tr th:only-of-type {\n",
       "        vertical-align: middle;\n",
       "    }\n",
       "\n",
       "    .dataframe tbody tr th {\n",
       "        vertical-align: top;\n",
       "    }\n",
       "\n",
       "    .dataframe thead th {\n",
       "        text-align: right;\n",
       "    }\n",
       "</style>\n",
       "<table border=\"1\" class=\"dataframe\">\n",
       "  <thead>\n",
       "    <tr style=\"text-align: right;\">\n",
       "      <th></th>\n",
       "      <th>id</th>\n",
       "      <th>title</th>\n",
       "      <th>body</th>\n",
       "      <th>category</th>\n",
       "      <th>label</th>\n",
       "    </tr>\n",
       "  </thead>\n",
       "  <tbody>\n",
       "    <tr>\n",
       "      <th>0</th>\n",
       "      <td>AKR20191006026700004</td>\n",
       "      <td>공소시효 만료로 수배 해제 5년간 2만3천건…하루 13건꼴</td>\n",
       "      <td>공소시효가 만료돼 수배가 해제되는 사건이 하루 12∼13건꼴인 것으로 조사됐다. 6...</td>\n",
       "      <td>3</td>\n",
       "      <td>0</td>\n",
       "    </tr>\n",
       "    <tr>\n",
       "      <th>1</th>\n",
       "      <td>AKR20190201116900051</td>\n",
       "      <td>설 연휴 부산 병·의원 2천75곳 문 연다</td>\n",
       "      <td>이번 설 연휴 부산에서는 모두 2천75곳의 병·의원이 문을 연다. 부산시는 2일부터...</td>\n",
       "      <td>3</td>\n",
       "      <td>0</td>\n",
       "    </tr>\n",
       "    <tr>\n",
       "      <th>2</th>\n",
       "      <td>AKR20190829062751054</td>\n",
       "      <td>5·18사적지 옛 적십자병원 매각…광주시 매입 난색</td>\n",
       "      <td>5·18민주화운동 사적지 제11호인 옛 광주적십자병원 건물이 매각될 것으로 알려지면...</td>\n",
       "      <td>3</td>\n",
       "      <td>0</td>\n",
       "    </tr>\n",
       "    <tr>\n",
       "      <th>3</th>\n",
       "      <td>AKR20190522007500004</td>\n",
       "      <td>최고기온 30도 내외로 더워…수도권 오전에 미세먼지 나쁨</td>\n",
       "      <td>수요일인 22일은 전국이 맑고 내륙지역은 낮 최고기온이 30도 내외로 덥겠다. 이날...</td>\n",
       "      <td>3</td>\n",
       "      <td>0</td>\n",
       "    </tr>\n",
       "    <tr>\n",
       "      <th>4</th>\n",
       "      <td>AKR20190524026451004</td>\n",
       "      <td>미소페 제화공들 본사 앞 점거 농성…\"고용 보장하라\"</td>\n",
       "      <td>구두 브랜드인 미소페 공장에서 일하는 제화노동자들이 미소페 본사 앞을 점거하고 \"본...</td>\n",
       "      <td>3</td>\n",
       "      <td>0</td>\n",
       "    </tr>\n",
       "  </tbody>\n",
       "</table>\n",
       "</div>"
      ],
      "text/plain": [
       "                     id                             title  \\\n",
       "0  AKR20191006026700004  공소시효 만료로 수배 해제 5년간 2만3천건…하루 13건꼴   \n",
       "1  AKR20190201116900051           설 연휴 부산 병·의원 2천75곳 문 연다   \n",
       "2  AKR20190829062751054      5·18사적지 옛 적십자병원 매각…광주시 매입 난색   \n",
       "3  AKR20190522007500004   최고기온 30도 내외로 더워…수도권 오전에 미세먼지 나쁨   \n",
       "4  AKR20190524026451004     미소페 제화공들 본사 앞 점거 농성…\"고용 보장하라\"   \n",
       "\n",
       "                                                body  category  label  \n",
       "0  공소시효가 만료돼 수배가 해제되는 사건이 하루 12∼13건꼴인 것으로 조사됐다. 6...         3      0  \n",
       "1  이번 설 연휴 부산에서는 모두 2천75곳의 병·의원이 문을 연다. 부산시는 2일부터...         3      0  \n",
       "2  5·18민주화운동 사적지 제11호인 옛 광주적십자병원 건물이 매각될 것으로 알려지면...         3      0  \n",
       "3  수요일인 22일은 전국이 맑고 내륙지역은 낮 최고기온이 30도 내외로 덥겠다. 이날...         3      0  \n",
       "4  구두 브랜드인 미소페 공장에서 일하는 제화노동자들이 미소페 본사 앞을 점거하고 \"본...         3      0  "
      ]
     },
     "execution_count": 61,
     "metadata": {},
     "output_type": "execute_result"
    }
   ],
   "source": [
    "df1 = true_df[true_df['category']==3].reset_index(drop=True)\n",
    "df1.head()"
   ]
  },
  {
   "cell_type": "code",
   "execution_count": 30,
   "metadata": {
    "scrolled": false
   },
   "outputs": [
    {
     "data": {
      "text/plain": [
       "(2, 4, 7)"
      ]
     },
     "execution_count": 30,
     "metadata": {},
     "output_type": "execute_result"
    }
   ],
   "source": [
    "s = sample.split('.')\n",
    "len_s = len(s)\n",
    "int(len_s * 0.3), int(len_s * 0.7), len_s"
   ]
  },
  {
   "cell_type": "code",
   "execution_count": 48,
   "metadata": {},
   "outputs": [
    {
     "data": {
      "text/plain": [
       "[0, 1, 2, 3, 4, 5, 6, 7, 8]"
      ]
     },
     "execution_count": 48,
     "metadata": {},
     "output_type": "execute_result"
    }
   ],
   "source": [
    "category = [i for i in range(9)]"
   ]
  },
  {
   "cell_type": "code",
   "execution_count": 77,
   "metadata": {},
   "outputs": [
    {
     "data": {
      "text/plain": [
       "'공소시효 만료로 수배 해제 5년간 2만3천건…하루 13건꼴'"
      ]
     },
     "execution_count": 77,
     "metadata": {},
     "output_type": "execute_result"
    }
   ],
   "source": [
    "target_df.loc[0,'title']"
   ]
  },
  {
   "cell_type": "code",
   "execution_count": 173,
   "metadata": {},
   "outputs": [],
   "source": [
    "def synthetic(target_df, sample_df, type1):\n",
    "    body_list=[]\n",
    "    title_list=[]\n",
    "\n",
    "    for i in range(len(target_df)):\n",
    "        title = target_df.loc[i,'title']\n",
    "        target = target_df.loc[i,'split_doc']\n",
    "        sample = sample_df.loc[i,'split_doc']        \n",
    "        if type1 == 1:\n",
    "            body = target[0]+target[1]+sample[1]+sample[2]+target[2]\n",
    "        if type1 == 2:\n",
    "            body = target[0]+sample[0]+sample[1]+sample[2]+target[2]\n",
    "        if type1 == 3:\n",
    "            body = target[0] + sample[1] + sample[2]\n",
    "        if type1 == 4:\n",
    "            body = sample[0] + target[1] + sample[2]\n",
    "\n",
    "        body_list.append(body)\n",
    "        title_list.append(title)\n",
    "    return title_list, body_list"
   ]
  },
  {
   "cell_type": "code",
   "execution_count": 163,
   "metadata": {},
   "outputs": [],
   "source": [
    "def split_doc(doc):\n",
    "    len_doc = len(doc)\n",
    "    s,m = int(len_doc * 0.3), int(len_doc * 0.7)\n",
    "    t1, t2, t3 = doc[:s], doc[s:m], doc[m:]\n",
    "    target_list = [t1,t2,t3]\n",
    "    return target_list"
   ]
  },
  {
   "cell_type": "code",
   "execution_count": 193,
   "metadata": {},
   "outputs": [
    {
     "data": {
      "text/plain": [
       "7    12903\n",
       "6    10955\n",
       "2     8875\n",
       "3     8240\n",
       "1     5981\n",
       "4     2887\n",
       "5      145\n",
       "0       11\n",
       "8        3\n",
       "Name: category, dtype: int64"
      ]
     },
     "execution_count": 193,
     "metadata": {},
     "output_type": "execute_result"
    }
   ],
   "source": [
    "true_df['category'].value_counts()"
   ]
  },
  {
   "cell_type": "code",
   "execution_count": 257,
   "metadata": {},
   "outputs": [],
   "source": [
    "df1 = true_df[true_df['category']==8].reset_index(drop=True)"
   ]
  },
  {
   "cell_type": "code",
   "execution_count": 258,
   "metadata": {},
   "outputs": [],
   "source": [
    "from nltk.tokenize import sent_tokenize\n",
    "\n",
    "df1['split_sen'] = df1['body'].apply(lambda x : sent_tokenize(x))\n",
    "df1['split_doc'] = df1['split_sen'].apply(split_doc)"
   ]
  },
  {
   "cell_type": "code",
   "execution_count": 259,
   "metadata": {},
   "outputs": [],
   "source": [
    "target_df = df1[:1]\n",
    "sample_df = df1[-1:].reset_index(drop=True)"
   ]
  },
  {
   "cell_type": "code",
   "execution_count": 260,
   "metadata": {},
   "outputs": [],
   "source": [
    "title_list, body_list = synthetic(target_df, sample_df, 1)\n",
    "title_list2, body_list2 = synthetic(target_df, sample_df, 2)\n",
    "title_list3, body_list3 = synthetic(target_df, sample_df, 3)\n",
    "title_list4, body_list4 = synthetic(target_df, sample_df, 4)"
   ]
  },
  {
   "cell_type": "code",
   "execution_count": 261,
   "metadata": {},
   "outputs": [],
   "source": [
    "title_data = title_list+title_list2+title_list3+title_list4\n",
    "body_data = body_list+body_list2+body_list3+body_list4"
   ]
  },
  {
   "cell_type": "code",
   "execution_count": 262,
   "metadata": {},
   "outputs": [],
   "source": [
    "df_result = pd.DataFrame({'title':title_data, 'body':body_data})"
   ]
  },
  {
   "cell_type": "code",
   "execution_count": 263,
   "metadata": {},
   "outputs": [],
   "source": [
    "df_result['body'] = df_result['body'].apply(lambda x : ''.join(x))"
   ]
  },
  {
   "cell_type": "code",
   "execution_count": 264,
   "metadata": {},
   "outputs": [
    {
     "data": {
      "text/html": [
       "<div>\n",
       "<style scoped>\n",
       "    .dataframe tbody tr th:only-of-type {\n",
       "        vertical-align: middle;\n",
       "    }\n",
       "\n",
       "    .dataframe tbody tr th {\n",
       "        vertical-align: top;\n",
       "    }\n",
       "\n",
       "    .dataframe thead th {\n",
       "        text-align: right;\n",
       "    }\n",
       "</style>\n",
       "<table border=\"1\" class=\"dataframe\">\n",
       "  <thead>\n",
       "    <tr style=\"text-align: right;\">\n",
       "      <th></th>\n",
       "      <th>title</th>\n",
       "      <th>body</th>\n",
       "    </tr>\n",
       "  </thead>\n",
       "  <tbody>\n",
       "    <tr>\n",
       "      <th>0</th>\n",
       "      <td>원자력연, 손바닥 크기 장치로 선명한 엑스선 촬영 기술 이전</td>\n",
       "      <td>한국원자력연구원은 더 선명한 영상을 촬영하면서 휴대가 가능한 다중에너지 엑스선 발생...</td>\n",
       "    </tr>\n",
       "    <tr>\n",
       "      <th>1</th>\n",
       "      <td>원자력연, 손바닥 크기 장치로 선명한 엑스선 촬영 기술 이전</td>\n",
       "      <td>한국원자력연구원은 더 선명한 영상을 촬영하면서 휴대가 가능한 다중에너지 엑스선 발생...</td>\n",
       "    </tr>\n",
       "    <tr>\n",
       "      <th>2</th>\n",
       "      <td>원자력연, 손바닥 크기 장치로 선명한 엑스선 촬영 기술 이전</td>\n",
       "      <td>한국원자력연구원은 더 선명한 영상을 촬영하면서 휴대가 가능한 다중에너지 엑스선 발생...</td>\n",
       "    </tr>\n",
       "    <tr>\n",
       "      <th>3</th>\n",
       "      <td>원자력연, 손바닥 크기 장치로 선명한 엑스선 촬영 기술 이전</td>\n",
       "      <td>일본 정부가 후쿠시마 원전 오염수를 해양에 방류하겠다고 밝혀 우려가 커지는 가운데 ...</td>\n",
       "    </tr>\n",
       "  </tbody>\n",
       "</table>\n",
       "</div>"
      ],
      "text/plain": [
       "                               title  \\\n",
       "0  원자력연, 손바닥 크기 장치로 선명한 엑스선 촬영 기술 이전   \n",
       "1  원자력연, 손바닥 크기 장치로 선명한 엑스선 촬영 기술 이전   \n",
       "2  원자력연, 손바닥 크기 장치로 선명한 엑스선 촬영 기술 이전   \n",
       "3  원자력연, 손바닥 크기 장치로 선명한 엑스선 촬영 기술 이전   \n",
       "\n",
       "                                                body  \n",
       "0  한국원자력연구원은 더 선명한 영상을 촬영하면서 휴대가 가능한 다중에너지 엑스선 발생...  \n",
       "1  한국원자력연구원은 더 선명한 영상을 촬영하면서 휴대가 가능한 다중에너지 엑스선 발생...  \n",
       "2  한국원자력연구원은 더 선명한 영상을 촬영하면서 휴대가 가능한 다중에너지 엑스선 발생...  \n",
       "3  일본 정부가 후쿠시마 원전 오염수를 해양에 방류하겠다고 밝혀 우려가 커지는 가운데 ...  "
      ]
     },
     "execution_count": 264,
     "metadata": {},
     "output_type": "execute_result"
    }
   ],
   "source": [
    "df_result.head()"
   ]
  },
  {
   "cell_type": "code",
   "execution_count": 265,
   "metadata": {},
   "outputs": [],
   "source": [
    "df_result.to_csv('category8.csv')"
   ]
  },
  {
   "cell_type": "code",
   "execution_count": 266,
   "metadata": {},
   "outputs": [],
   "source": [
    "df = pd.read_csv('category0.csv')\n",
    "df1 = pd.read_csv('category1.csv')\n",
    "df2 = pd.read_csv('category2.csv')\n",
    "df3 = pd.read_csv('category3.csv')\n",
    "df4 = pd.read_csv('category4.csv')\n",
    "df5 = pd.read_csv('category5.csv')\n",
    "df6 = pd.read_csv('category6.csv')\n",
    "df7 = pd.read_csv('category7.csv')\n",
    "df8 = pd.read_csv('category8.csv')"
   ]
  },
  {
   "cell_type": "code",
   "execution_count": 267,
   "metadata": {
    "scrolled": true
   },
   "outputs": [
    {
     "data": {
      "text/plain": [
       "24284"
      ]
     },
     "execution_count": 267,
     "metadata": {},
     "output_type": "execute_result"
    }
   ],
   "source": [
    "result = pd.concat([df1,df2,df3,df4,df5,df6,df7,df8])\n",
    "len(result)"
   ]
  },
  {
   "cell_type": "code",
   "execution_count": 269,
   "metadata": {
    "scrolled": true
   },
   "outputs": [
    {
     "data": {
      "text/html": [
       "<div>\n",
       "<style scoped>\n",
       "    .dataframe tbody tr th:only-of-type {\n",
       "        vertical-align: middle;\n",
       "    }\n",
       "\n",
       "    .dataframe tbody tr th {\n",
       "        vertical-align: top;\n",
       "    }\n",
       "\n",
       "    .dataframe thead th {\n",
       "        text-align: right;\n",
       "    }\n",
       "</style>\n",
       "<table border=\"1\" class=\"dataframe\">\n",
       "  <thead>\n",
       "    <tr style=\"text-align: right;\">\n",
       "      <th></th>\n",
       "      <th>Unnamed: 0</th>\n",
       "      <th>title</th>\n",
       "      <th>body</th>\n",
       "    </tr>\n",
       "  </thead>\n",
       "  <tbody>\n",
       "    <tr>\n",
       "      <th>0</th>\n",
       "      <td>0</td>\n",
       "      <td>손학규 \"文대통령, 조연 자처했지만 북미회담서 역할 못 해\"</td>\n",
       "      <td>바른미래당 손학규 대표는 1일 전날 판문점에서 열린 북미 정상회동 및 남북미 정상회...</td>\n",
       "    </tr>\n",
       "    <tr>\n",
       "      <th>1</th>\n",
       "      <td>1</td>\n",
       "      <td>리비아 피랍 석방 주씨 딸, 文대통령에게 편지…\"벅차고 감사\"</td>\n",
       "      <td>지난해 7월 리비아 무장세력에 납치됐다가 315일 만에 풀려난 한국인 주 모 씨의 ...</td>\n",
       "    </tr>\n",
       "    <tr>\n",
       "      <th>2</th>\n",
       "      <td>2</td>\n",
       "      <td>민주·평화·정의, 노회찬 모욕 오세훈 일제히 비판</td>\n",
       "      <td>더불어민주당, 민주평화당, 정의당 등 여야 3당은 1일 자유한국당 소속 오세훈 전 ...</td>\n",
       "    </tr>\n",
       "    <tr>\n",
       "      <th>3</th>\n",
       "      <td>3</td>\n",
       "      <td>이총리, 돼지열병 방역현장 두번째 방문…최고수준 방역 강조</td>\n",
       "      <td>이낙연 국무총리는 5일 경기 북부 접경지역의 아프리카돼지열병 차단 방역현장을 점검했...</td>\n",
       "    </tr>\n",
       "    <tr>\n",
       "      <th>4</th>\n",
       "      <td>4</td>\n",
       "      <td>이해찬 \"마스크 사재기·폭리 몰지각…코로나 사태 악용안돼\"</td>\n",
       "      <td>더불어민주당 이해찬 대표는 5일 신종 코로나바이러스 감염증과 관련, \"일부 몰지각한...</td>\n",
       "    </tr>\n",
       "  </tbody>\n",
       "</table>\n",
       "</div>"
      ],
      "text/plain": [
       "   Unnamed: 0                               title  \\\n",
       "0           0   손학규 \"文대통령, 조연 자처했지만 북미회담서 역할 못 해\"   \n",
       "1           1  리비아 피랍 석방 주씨 딸, 文대통령에게 편지…\"벅차고 감사\"   \n",
       "2           2         민주·평화·정의, 노회찬 모욕 오세훈 일제히 비판   \n",
       "3           3    이총리, 돼지열병 방역현장 두번째 방문…최고수준 방역 강조   \n",
       "4           4    이해찬 \"마스크 사재기·폭리 몰지각…코로나 사태 악용안돼\"   \n",
       "\n",
       "                                                body  \n",
       "0  바른미래당 손학규 대표는 1일 전날 판문점에서 열린 북미 정상회동 및 남북미 정상회...  \n",
       "1  지난해 7월 리비아 무장세력에 납치됐다가 315일 만에 풀려난 한국인 주 모 씨의 ...  \n",
       "2  더불어민주당, 민주평화당, 정의당 등 여야 3당은 1일 자유한국당 소속 오세훈 전 ...  \n",
       "3  이낙연 국무총리는 5일 경기 북부 접경지역의 아프리카돼지열병 차단 방역현장을 점검했...  \n",
       "4  더불어민주당 이해찬 대표는 5일 신종 코로나바이러스 감염증과 관련, \"일부 몰지각한...  "
      ]
     },
     "execution_count": 269,
     "metadata": {},
     "output_type": "execute_result"
    }
   ],
   "source": [
    "result.head()"
   ]
  },
  {
   "cell_type": "code",
   "execution_count": 270,
   "metadata": {},
   "outputs": [
    {
     "data": {
      "text/html": [
       "<div>\n",
       "<style scoped>\n",
       "    .dataframe tbody tr th:only-of-type {\n",
       "        vertical-align: middle;\n",
       "    }\n",
       "\n",
       "    .dataframe tbody tr th {\n",
       "        vertical-align: top;\n",
       "    }\n",
       "\n",
       "    .dataframe thead th {\n",
       "        text-align: right;\n",
       "    }\n",
       "</style>\n",
       "<table border=\"1\" class=\"dataframe\">\n",
       "  <thead>\n",
       "    <tr style=\"text-align: right;\">\n",
       "      <th></th>\n",
       "      <th>Unnamed: 0</th>\n",
       "      <th>title</th>\n",
       "      <th>body</th>\n",
       "    </tr>\n",
       "  </thead>\n",
       "  <tbody>\n",
       "    <tr>\n",
       "      <th>3999</th>\n",
       "      <td>3999</td>\n",
       "      <td>대전 외국인통합지원센터 내년 초 하나은행 대전역전점에 오픈</td>\n",
       "      <td>경기도는 카카오T 블루 택시에 대한 배차 몰아주기 의혹에 대한 실태조사에 나선다고 ...</td>\n",
       "    </tr>\n",
       "    <tr>\n",
       "      <th>0</th>\n",
       "      <td>0</td>\n",
       "      <td>원자력연, 손바닥 크기 장치로 선명한 엑스선 촬영 기술 이전</td>\n",
       "      <td>한국원자력연구원은 더 선명한 영상을 촬영하면서 휴대가 가능한 다중에너지 엑스선 발생...</td>\n",
       "    </tr>\n",
       "    <tr>\n",
       "      <th>1</th>\n",
       "      <td>1</td>\n",
       "      <td>원자력연, 손바닥 크기 장치로 선명한 엑스선 촬영 기술 이전</td>\n",
       "      <td>한국원자력연구원은 더 선명한 영상을 촬영하면서 휴대가 가능한 다중에너지 엑스선 발생...</td>\n",
       "    </tr>\n",
       "    <tr>\n",
       "      <th>2</th>\n",
       "      <td>2</td>\n",
       "      <td>원자력연, 손바닥 크기 장치로 선명한 엑스선 촬영 기술 이전</td>\n",
       "      <td>한국원자력연구원은 더 선명한 영상을 촬영하면서 휴대가 가능한 다중에너지 엑스선 발생...</td>\n",
       "    </tr>\n",
       "    <tr>\n",
       "      <th>3</th>\n",
       "      <td>3</td>\n",
       "      <td>원자력연, 손바닥 크기 장치로 선명한 엑스선 촬영 기술 이전</td>\n",
       "      <td>일본 정부가 후쿠시마 원전 오염수를 해양에 방류하겠다고 밝혀 우려가 커지는 가운데 ...</td>\n",
       "    </tr>\n",
       "  </tbody>\n",
       "</table>\n",
       "</div>"
      ],
      "text/plain": [
       "      Unnamed: 0                              title  \\\n",
       "3999        3999   대전 외국인통합지원센터 내년 초 하나은행 대전역전점에 오픈   \n",
       "0              0  원자력연, 손바닥 크기 장치로 선명한 엑스선 촬영 기술 이전   \n",
       "1              1  원자력연, 손바닥 크기 장치로 선명한 엑스선 촬영 기술 이전   \n",
       "2              2  원자력연, 손바닥 크기 장치로 선명한 엑스선 촬영 기술 이전   \n",
       "3              3  원자력연, 손바닥 크기 장치로 선명한 엑스선 촬영 기술 이전   \n",
       "\n",
       "                                                   body  \n",
       "3999  경기도는 카카오T 블루 택시에 대한 배차 몰아주기 의혹에 대한 실태조사에 나선다고 ...  \n",
       "0     한국원자력연구원은 더 선명한 영상을 촬영하면서 휴대가 가능한 다중에너지 엑스선 발생...  \n",
       "1     한국원자력연구원은 더 선명한 영상을 촬영하면서 휴대가 가능한 다중에너지 엑스선 발생...  \n",
       "2     한국원자력연구원은 더 선명한 영상을 촬영하면서 휴대가 가능한 다중에너지 엑스선 발생...  \n",
       "3     일본 정부가 후쿠시마 원전 오염수를 해양에 방류하겠다고 밝혀 우려가 커지는 가운데 ...  "
      ]
     },
     "execution_count": 270,
     "metadata": {},
     "output_type": "execute_result"
    }
   ],
   "source": [
    "result.tail()"
   ]
  },
  {
   "cell_type": "code",
   "execution_count": 268,
   "metadata": {},
   "outputs": [],
   "source": [
    "result.to_csv('syn_dataset.csv')"
   ]
  },
  {
   "cell_type": "code",
   "execution_count": null,
   "metadata": {},
   "outputs": [],
   "source": []
  }
 ],
 "metadata": {
  "kernelspec": {
   "display_name": "Python 3",
   "language": "python",
   "name": "python3"
  },
  "language_info": {
   "codemirror_mode": {
    "name": "ipython",
    "version": 3
   },
   "file_extension": ".py",
   "mimetype": "text/x-python",
   "name": "python",
   "nbconvert_exporter": "python",
   "pygments_lexer": "ipython3",
   "version": "3.8.5"
  }
 },
 "nbformat": 4,
 "nbformat_minor": 4
}
