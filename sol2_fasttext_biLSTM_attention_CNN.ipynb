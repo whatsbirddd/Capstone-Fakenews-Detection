{
 "cells": [
  {
   "cell_type": "code",
   "execution_count": 5,
   "metadata": {},
   "outputs": [],
   "source": [
    "import pandas as pd\n",
    "import numpy as np\n",
    "import matplotlib.pyplot as plt\n",
    "import urllib.request\n",
    "from konlpy.tag import Mecab\n",
    "from tqdm import tqdm\n",
    "import re\n",
    "\n",
    "import collections\n",
    "import seaborn as sns"
   ]
  },
  {
   "cell_type": "code",
   "execution_count": 6,
   "metadata": {},
   "outputs": [],
   "source": [
    "#한글 깨짐 처리\n",
    "import os\n",
    "\n",
    "if os.name == 'posix':\n",
    "    plt.rc(\"font\", family=\"AppleGothic\")\n",
    "\n",
    "else :\n",
    "    plt.rc(\"font\", family=\"Malgun Gothic\")\n",
    "\n",
    "%config InlineBackend.figure_format = 'retina'"
   ]
  },
  {
   "cell_type": "code",
   "execution_count": 7,
   "metadata": {},
   "outputs": [],
   "source": [
    "train = pd.read_csv(\"capstone_dataset/train.csv\")\n",
    "val = pd.read_csv(\"capstone_dataset/valid.csv\")\n",
    "test = pd.read_csv(\"capstone_dataset/test.csv\")"
   ]
  },
  {
   "cell_type": "code",
   "execution_count": 8,
   "metadata": {},
   "outputs": [
    {
     "data": {
      "text/html": [
       "<div>\n",
       "<style scoped>\n",
       "    .dataframe tbody tr th:only-of-type {\n",
       "        vertical-align: middle;\n",
       "    }\n",
       "\n",
       "    .dataframe tbody tr th {\n",
       "        vertical-align: top;\n",
       "    }\n",
       "\n",
       "    .dataframe thead th {\n",
       "        text-align: right;\n",
       "    }\n",
       "</style>\n",
       "<table border=\"1\" class=\"dataframe\">\n",
       "  <thead>\n",
       "    <tr style=\"text-align: right;\">\n",
       "      <th></th>\n",
       "      <th>id</th>\n",
       "      <th>title</th>\n",
       "      <th>body</th>\n",
       "      <th>category</th>\n",
       "      <th>label</th>\n",
       "    </tr>\n",
       "  </thead>\n",
       "  <tbody>\n",
       "    <tr>\n",
       "      <th>0</th>\n",
       "      <td>AKR20191006026700004</td>\n",
       "      <td>공소시효 만료로 수배 해제 5년간 2만3천건…하루 13건꼴</td>\n",
       "      <td>공소시효가 만료돼 수배가 해제되는 사건이 하루 12∼13건꼴인 것으로 조사됐다. 6...</td>\n",
       "      <td>3</td>\n",
       "      <td>0</td>\n",
       "    </tr>\n",
       "    <tr>\n",
       "      <th>1</th>\n",
       "      <td>AKR20190201116900051</td>\n",
       "      <td>설 연휴 부산 병·의원 2천75곳 문 연다</td>\n",
       "      <td>이번 설 연휴 부산에서는 모두 2천75곳의 병·의원이 문을 연다. 부산시는 2일부터...</td>\n",
       "      <td>3</td>\n",
       "      <td>0</td>\n",
       "    </tr>\n",
       "    <tr>\n",
       "      <th>2</th>\n",
       "      <td>AKR20200731075300061</td>\n",
       "      <td>시흥시, 청년근로자 100명에 60만원씩 복지포인트 지급</td>\n",
       "      <td>경기 시흥시는 관내 시흥청년해피기업에 근무하는 청년 근로자 100명을 선정, 1인당...</td>\n",
       "      <td>7</td>\n",
       "      <td>0</td>\n",
       "    </tr>\n",
       "    <tr>\n",
       "      <th>3</th>\n",
       "      <td>AKR20191220114000001</td>\n",
       "      <td>한국당 5일째 패스트트랙法 규탄대회…\"4+1, 文정권에 예산뇌물\"</td>\n",
       "      <td>자유한국당 황교안 대표와 민주평화당 정동영·정의당 이정미 대표는 4일 상견례 자리에...</td>\n",
       "      <td>1</td>\n",
       "      <td>1</td>\n",
       "    </tr>\n",
       "    <tr>\n",
       "      <th>4</th>\n",
       "      <td>AKR20191029112900057</td>\n",
       "      <td>울산시의원 \"시민 참여 온라인 쇼핑몰 울산몰 만들자\"</td>\n",
       "      <td>경남도의회는 11일 제10호 태풍 하이선으로 낙과 피해를 본 밀양시 산내면 사과 재...</td>\n",
       "      <td>1</td>\n",
       "      <td>1</td>\n",
       "    </tr>\n",
       "  </tbody>\n",
       "</table>\n",
       "</div>"
      ],
      "text/plain": [
       "                     id                                 title  \\\n",
       "0  AKR20191006026700004      공소시효 만료로 수배 해제 5년간 2만3천건…하루 13건꼴   \n",
       "1  AKR20190201116900051               설 연휴 부산 병·의원 2천75곳 문 연다   \n",
       "2  AKR20200731075300061       시흥시, 청년근로자 100명에 60만원씩 복지포인트 지급   \n",
       "3  AKR20191220114000001  한국당 5일째 패스트트랙法 규탄대회…\"4+1, 文정권에 예산뇌물\"   \n",
       "4  AKR20191029112900057         울산시의원 \"시민 참여 온라인 쇼핑몰 울산몰 만들자\"   \n",
       "\n",
       "                                                body  category  label  \n",
       "0  공소시효가 만료돼 수배가 해제되는 사건이 하루 12∼13건꼴인 것으로 조사됐다. 6...         3      0  \n",
       "1  이번 설 연휴 부산에서는 모두 2천75곳의 병·의원이 문을 연다. 부산시는 2일부터...         3      0  \n",
       "2  경기 시흥시는 관내 시흥청년해피기업에 근무하는 청년 근로자 100명을 선정, 1인당...         7      0  \n",
       "3  자유한국당 황교안 대표와 민주평화당 정동영·정의당 이정미 대표는 4일 상견례 자리에...         1      1  \n",
       "4  경남도의회는 11일 제10호 태풍 하이선으로 낙과 피해를 본 밀양시 산내면 사과 재...         1      1  "
      ]
     },
     "execution_count": 8,
     "metadata": {},
     "output_type": "execute_result"
    }
   ],
   "source": [
    "train.head()"
   ]
  },
  {
   "cell_type": "markdown",
   "metadata": {},
   "source": [
    "# preprocessing"
   ]
  },
  {
   "cell_type": "code",
   "execution_count": 9,
   "metadata": {},
   "outputs": [],
   "source": [
    "def preprocessing(text):\n",
    "    m = Mecab()\n",
    "    \n",
    "    cleaned_text = re.sub('[^가-힣]', ' ', text) #한글과 영어 소문자만 남기고 다른 글자 모두 제거\n",
    "    tokenized_text = m.morphs(cleaned_text)\n",
    "    removed_by_len_text = [token for token in tokenized_text if len(token)>1]\n",
    "    return removed_by_len_text"
   ]
  },
  {
   "cell_type": "code",
   "execution_count": 10,
   "metadata": {},
   "outputs": [],
   "source": [
    "train['title_token'] = train['title'].apply(preprocessing)\n",
    "train['body_token'] = train['body'].apply(preprocessing)\n",
    "\n",
    "val['title_token'] = val['title'].apply(preprocessing)\n",
    "val['body_token'] = val['body'].apply(preprocessing)"
   ]
  },
  {
   "cell_type": "code",
   "execution_count": 11,
   "metadata": {
    "scrolled": false
   },
   "outputs": [],
   "source": [
    "#train['token'] = tokenized_data"
   ]
  },
  {
   "cell_type": "code",
   "execution_count": 12,
   "metadata": {
    "scrolled": true
   },
   "outputs": [
    {
     "name": "stdout",
     "output_type": "stream",
     "text": [
      "body의 최대 길이 : 3232\n",
      "body의 평균 길이 : 181.94978\n"
     ]
    },
    {
     "data": {
      "image/png": "[encoded data removed]",
      "text/plain": [
       "<Figure size 432x288 with 1 Axes>"
      ]
     },
     "metadata": {
      "image/png": {
       "height": 265,
       "width": 417
      },
      "needs_background": "light"
     },
     "output_type": "display_data"
    }
   ],
   "source": [
    "# body 길이 분포 확인\n",
    "print('body의 최대 길이 :',max(len(review) for review in train['body_token']))\n",
    "print('body의 평균 길이 :',sum(map(len, train['body_token']))/len(train['body_token']))\n",
    "plt.hist([len(body) for body in train['body_token']], bins=50)\n",
    "plt.xlim(0,1000)\n",
    "plt.xlabel('length of samples')\n",
    "plt.ylabel('number of samples')\n",
    "plt.show()"
   ]
  },
  {
   "cell_type": "code",
   "execution_count": 13,
   "metadata": {},
   "outputs": [
    {
     "data": {
      "text/plain": [
       "415.0"
      ]
     },
     "execution_count": 13,
     "metadata": {},
     "output_type": "execute_result"
    }
   ],
   "source": [
    "len_token = [len(review) for review in train['body_token']]\n",
    "len_token = np.array(len_token)\n",
    "np.percentile(len_token, 95) #value of padding"
   ]
  },
  {
   "cell_type": "code",
   "execution_count": 14,
   "metadata": {},
   "outputs": [
    {
     "data": {
      "text/plain": [
       "10.0"
      ]
     },
     "execution_count": 14,
     "metadata": {},
     "output_type": "execute_result"
    }
   ],
   "source": [
    "len_token = [len(title) for title in train['title_token']]\n",
    "len_token = np.array(len_token)\n",
    "np.percentile(len_token, 95) #value of padding"
   ]
  },
  {
   "cell_type": "code",
   "execution_count": 15,
   "metadata": {},
   "outputs": [],
   "source": [
    "from tensorflow.keras.preprocessing.text import Tokenizer\n",
    "from tensorflow.keras.preprocessing.sequence import pad_sequences"
   ]
  },
  {
   "cell_type": "code",
   "execution_count": 16,
   "metadata": {},
   "outputs": [],
   "source": [
    "tokenizer = Tokenizer() \n",
    "tokenized_text = pd.concat([train.body_token,train.title_token],axis=0)\n",
    "tokenizer.fit_on_texts(tokenized_text)\n",
    "vocab_size = len(tokenizer.word_index) + 1 # 패딩을 고려하여 +1"
   ]
  },
  {
   "cell_type": "code",
   "execution_count": 17,
   "metadata": {},
   "outputs": [
    {
     "data": {
      "text/plain": [
       "127860"
      ]
     },
     "execution_count": 17,
     "metadata": {},
     "output_type": "execute_result"
    }
   ],
   "source": [
    "vocab_size"
   ]
  },
  {
   "cell_type": "code",
   "execution_count": 18,
   "metadata": {},
   "outputs": [],
   "source": [
    "def encoded_text(tokenizer,tokenized_data,max_len):\n",
    "    encoded = tokenizer.texts_to_sequences(tokenized_data)\n",
    "    padded = pad_sequences(encoded, maxlen=max_len)\n",
    "    return padded"
   ]
  },
  {
   "cell_type": "code",
   "execution_count": 19,
   "metadata": {},
   "outputs": [],
   "source": [
    "train_encoded_title_text = encoded_text(tokenizer,train['title_token'],10)\n",
    "train_encoded_body_text = encoded_text(tokenizer,train['body_token'],415)\n",
    "\n",
    "val_encoded_title_text = encoded_text(tokenizer,val['title_token'],10)\n",
    "val_encoded_body_text = encoded_text(tokenizer,val['body_token'],415)"
   ]
  },
  {
   "cell_type": "markdown",
   "metadata": {},
   "source": [
    "# FastText"
   ]
  },
  {
   "cell_type": "code",
   "execution_count": 20,
   "metadata": {},
   "outputs": [],
   "source": [
    "import gensim\n",
    "from gensim import models\n",
    "from gensim.models import fasttext\n",
    "from gensim.models.fasttext import FastText\n",
    "from gensim.models import Word2Vec, KeyedVectors"
   ]
  },
  {
   "cell_type": "code",
   "execution_count": 21,
   "metadata": {},
   "outputs": [
    {
     "name": "stdout",
     "output_type": "stream",
     "text": [
      "CPU times: user 44min 43s, sys: 16min 37s, total: 1h 1min 20s\n",
      "Wall time: 41min 59s\n"
     ]
    }
   ],
   "source": [
    "%%time\n",
    "ft_model = fasttext.load_facebook_model('/Users/saeran/Desktop/SJU2022/캡스톤/wordembedding/fasttext_wiki.ko/wiki.ko.bin')\n",
    "ft_model.build_vocab(sentences=tokenized_text, update=True)\n",
    "ft_model.train(tokenized_text, total_examples=len(tokenized_text),epochs=5)"
   ]
  },
  {
   "cell_type": "code",
   "execution_count": 32,
   "metadata": {},
   "outputs": [
    {
     "name": "stderr",
     "output_type": "stream",
     "text": [
      "<ipython-input-32-257080a30c13>:1: DeprecationWarning: Call to deprecated `similar_by_word` (Method will be removed in 4.0.0, use self.wv.similar_by_word() instead).\n",
      "  ft_model.similar_by_word('병원')\n"
     ]
    },
    {
     "data": {
      "text/plain": [
       "[('요양병원', 0.8322166204452515),\n",
       " ('암병원', 0.824726402759552),\n",
       " ('입원병원', 0.8179007172584534),\n",
       " ('시립병원', 0.8154072165489197),\n",
       " ('차병원', 0.8124256134033203),\n",
       " ('도립병원', 0.8043469786643982),\n",
       " ('의료', 0.8013299703598022),\n",
       " ('입원', 0.8010314106941223),\n",
       " ('한림병원', 0.8006834983825684),\n",
       " ('동산병원', 0.8004926443099976)]"
      ]
     },
     "execution_count": 32,
     "metadata": {},
     "output_type": "execute_result"
    }
   ],
   "source": [
    "ft_model.similar_by_word('병원')"
   ]
  },
  {
   "cell_type": "code",
   "execution_count": 35,
   "metadata": {
    "scrolled": false
   },
   "outputs": [
    {
     "name": "stderr",
     "output_type": "stream",
     "text": [
      "<ipython-input-35-ac03a62bd625>:4: DeprecationWarning: Call to deprecated `__contains__` (Method will be removed in 4.0.0, use self.wv.__contains__() instead).\n",
      "  if word in ft_model: #넘겨 받은 토큰이 word2vec에 존재하면(이미 훈련이 된 토큰이라는 뜻)\n",
      "<ipython-input-35-ac03a62bd625>:5: DeprecationWarning: Call to deprecated `__getitem__` (Method will be removed in 4.0.0, use self.wv.__getitem__() instead).\n",
      "  embedding_vector = ft_model[word] #해당 토큰에 해당하는 vector를 불러오고\n"
     ]
    }
   ],
   "source": [
    "embedding_matrix = np.zeros((vocab_size, 300)) #300차원의 임베딩 매트릭스 생성\n",
    "\n",
    "for word,index in tokenizer.word_index.items(): #vocabulary에 있는 토큰들을 하나씩 넘겨줍니다.\n",
    "    if word in ft_model: #넘겨 받은 토큰이 word2vec에 존재하면(이미 훈련이 된 토큰이라는 뜻)\n",
    "        embedding_vector = ft_model[word] #해당 토큰에 해당하는 vector를 불러오고\n",
    "        embedding_matrix[index] = embedding_vector #해당 위치의 embedding_mxtrix에 저장합니다.\n",
    "    else:\n",
    "        print(word)\n",
    "        print(\"word2vec에 없는 단어입니다.\")\n",
    "        break"
   ]
  },
  {
   "cell_type": "code",
   "execution_count": 36,
   "metadata": {
    "scrolled": true
   },
   "outputs": [
    {
     "data": {
      "text/plain": [
       "127859"
      ]
     },
     "execution_count": 36,
     "metadata": {},
     "output_type": "execute_result"
    }
   ],
   "source": [
    "len(tokenizer.word_index)"
   ]
  },
  {
   "cell_type": "code",
   "execution_count": 37,
   "metadata": {
    "scrolled": true
   },
   "outputs": [
    {
     "name": "stdout",
     "output_type": "stream",
     "text": [
      "[('요양병원', 0.8322166204452515), ('암병원', 0.824726402759552), ('입원병원', 0.8179007172584534), ('시립병원', 0.8154072165489197), ('차병원', 0.8124256134033203), ('도립병원', 0.8043469786643982), ('의료', 0.8013299703598022), ('입원', 0.8010314106941223), ('한림병원', 0.8006834983825684), ('동산병원', 0.8004926443099976)]\n"
     ]
    }
   ],
   "source": [
    "print(ft_model.wv.similar_by_word('병원'))"
   ]
  },
  {
   "cell_type": "code",
   "execution_count": null,
   "metadata": {},
   "outputs": [],
   "source": [
    "#임베딩 모델 저장\n",
    "#ft_model.save(\"/Users/saeran/Desktop/SJU2022/캡스톤/wordembedding/fasttext_final.bin\")"
   ]
  },
  {
   "cell_type": "markdown",
   "metadata": {},
   "source": [
    "# attention (바다나우)"
   ]
  },
  {
   "cell_type": "code",
   "execution_count": 34,
   "metadata": {},
   "outputs": [],
   "source": [
    "class BahdanauAttention(tf.keras.Model):\n",
    "  def __init__(self, units):\n",
    "    super(BahdanauAttention, self).__init__()\n",
    "    self.W1 = Dense(units)\n",
    "    self.W2 = Dense(units)\n",
    "    self.V = Dense(1)\n",
    "\n",
    "  def call(self, values, query): # key와 value는 같음\n",
    "    #1.attention score (encoder의 hidden states와 t-1 decoder의 state)\n",
    "    query_expand_axis = tf.expand_dims(query, 1)\n",
    "    score = self.V(tf.nn.tanh(self.W1(values)+self.W2(query_expand_axis))) #(batch_size, max_length, 1)\n",
    "    \n",
    "    #2.attention weights(softmax)\n",
    "    attention_weights = tf.nn.softmax(score, axis=1) #(batch_size, max_length, 1)\n",
    "\n",
    "    #3. attention value(어텐션 가중치, encoder hidden states)\n",
    "    context_vector = attention_weights * values\n",
    "    context_vector = tf.reduce_sum(context_vector, axis=1)\n",
    "\n",
    "    return context_vector, attention_weights"
   ]
  },
  {
   "cell_type": "markdown",
   "metadata": {},
   "source": [
    "# bi-LSTM + attention"
   ]
  },
  {
   "cell_type": "code",
   "execution_count": 38,
   "metadata": {},
   "outputs": [],
   "source": [
    "import tensorflow as tf\n",
    "from numpy import array\n",
    "from keras.preprocessing.text import one_hot\n",
    "from keras.preprocessing.sequence import pad_sequences\n",
    "\n",
    "from keras.callbacks import ModelCheckpoint,EarlyStopping\n",
    "\n",
    "\n",
    "from keras.models import Model\n",
    "from keras import layers\n",
    "from keras.layers import Dense, Embedding, LSTM, Concatenate, Dropout, Bidirectional\n",
    "from keras import Input\n",
    "\n",
    "from keras.models import Sequential\n",
    "from sklearn.model_selection import train_test_split"
   ]
  },
  {
   "cell_type": "code",
   "execution_count": 39,
   "metadata": {},
   "outputs": [],
   "source": [
    "X_train_title, X_val_title = train_encoded_title_text, val_encoded_title_text\n",
    "X_train_body, X_val_body = train_encoded_body_text, val_encoded_body_text\n",
    "y_train, y_val = train.label.values, val.label.values"
   ]
  },
  {
   "cell_type": "code",
   "execution_count": 40,
   "metadata": {},
   "outputs": [
    {
     "data": {
      "text/plain": [
       "((100000, 10), (25000, 10), (100000, 415), (25000, 415), (100000,), (25000,))"
      ]
     },
     "execution_count": 40,
     "metadata": {},
     "output_type": "execute_result"
    }
   ],
   "source": [
    "X_train_title.shape, X_val_title.shape,X_train_body.shape,X_val_body.shape, y_train.shape, y_val.shape"
   ]
  },
  {
   "cell_type": "code",
   "execution_count": 41,
   "metadata": {
    "scrolled": true
   },
   "outputs": [
    {
     "data": {
      "text/plain": [
       "((100000, 10), (25000, 10))"
      ]
     },
     "execution_count": 41,
     "metadata": {},
     "output_type": "execute_result"
    }
   ],
   "source": [
    "X_train_title.shape, X_val_title.shape"
   ]
  },
  {
   "cell_type": "code",
   "execution_count": 42,
   "metadata": {},
   "outputs": [
    {
     "data": {
      "text/plain": [
       "(127860, 300)"
      ]
     },
     "execution_count": 42,
     "metadata": {},
     "output_type": "execute_result"
    }
   ],
   "source": [
    "embedding_matrix.shape"
   ]
  },
  {
   "cell_type": "code",
   "execution_count": 32,
   "metadata": {
    "scrolled": true
   },
   "outputs": [
    {
     "name": "stdout",
     "output_type": "stream",
     "text": [
      "Model: \"model_1\"\n",
      "__________________________________________________________________________________________________\n",
      " Layer (type)                   Output Shape         Param #     Connected to                     \n",
      "==================================================================================================\n",
      " title (InputLayer)             [(None, 10)]         0           []                               \n",
      "                                                                                                  \n",
      " body (InputLayer)              [(None, 415)]        0           []                               \n",
      "                                                                                                  \n",
      " embedding_2 (Embedding)        (None, 10, 300)      38358000    ['title[0][0]']                  \n",
      "                                                                                                  \n",
      " embedding_3 (Embedding)        (None, 415, 300)     38358000    ['body[0][0]']                   \n",
      "                                                                                                  \n",
      " bidirectional_2 (Bidirectional  (None, 32)          40576       ['embedding_2[0][0]']            \n",
      " )                                                                                                \n",
      "                                                                                                  \n",
      " bidirectional_3 (Bidirectional  (None, 256)         439296      ['embedding_3[0][0]']            \n",
      " )                                                                                                \n",
      "                                                                                                  \n",
      " concatenate_1 (Concatenate)    (None, 288)          0           ['bidirectional_2[0][0]',        \n",
      "                                                                  'bidirectional_3[0][0]']        \n",
      "                                                                                                  \n",
      " dense_3 (Dense)                (None, 10)           2890        ['concatenate_1[0][0]']          \n",
      "                                                                                                  \n",
      " dense_4 (Dense)                (None, 5)            55          ['dense_3[0][0]']                \n",
      "                                                                                                  \n",
      " dense_5 (Dense)                (None, 1)            6           ['dense_4[0][0]']                \n",
      "                                                                                                  \n",
      "==================================================================================================\n",
      "Total params: 77,198,823\n",
      "Trainable params: 482,823\n",
      "Non-trainable params: 76,716,000\n",
      "__________________________________________________________________________________________________\n"
     ]
    }
   ],
   "source": [
    "#bi-lstm + attention\n",
    "\n",
    "#title : lstm\n",
    "input_title = Input(shape=(10,),name=\"title\",dtype='int32')\n",
    "embedded_title = Embedding(vocab_size,300,weights = [embedding_matrix], input_length = 10,trainable=False)(input_title)\n",
    "lstm_title = Bidirectional(LSTM(64, dropout=0.2))(embedded_title)\n",
    "#body: lstm + attention\n",
    "input_body = Input(shape=(415,),name=\"body\",dtype='int32')\n",
    "embedded_body = Embedding(vocab_size, 300,weights = [embedding_matrix], input_length = 415,trainable=False)(input_body)\n",
    "lstm_body = Bidirectional(LSTM(64, dropout=0.5, return_sequences = True))(embedded_body)\n",
    "lstm_body, forward_h, forward_c, backward_h, backward_c = Bidirectional(LSTM(64, dropout=0.5, return_sequences=True, return_state=True))(lstm_body)\n",
    "\n",
    "state_h = Concatenate()([forward_h, backward_h]) # 은닉 상태\n",
    "state_c = Concatenate()([forward_c, backward_c]) # 셀 상태\n",
    "\n",
    "attention = BahdanauAttention(64) #가중치 크기 정의\n",
    "context_vector, attention_weights = attention(lstm_body, state_h) \n",
    "dense1 = Dense(20, activation=\"relu\")(context_vector)\n",
    "dropout = Dropout(0.5)(dense1)\n",
    "\n",
    "#title + body\n",
    "concatenated = layers.concatenate([lstm_title,dropout])\n",
    "\n",
    "#layer\n",
    "layer1 = Dense(10,activation='relu')(concatenated)\n",
    "layer2 = Dense(5,activation='relu')(layer1)\n",
    "\n",
    "#분류\n",
    "output = Dense(1, activation='sigmoid')(layer2)\n",
    "\n",
    "model = Model(inputs=[input_title,input_body],outputs=output)\n",
    "model.summary()\n",
    "\n",
    "#es = EarlyStopping(monitor='val_loss', mode='min', verbose=1, patience=4)\n",
    "#mc = ModelCheckpoint('best_model.h5', monitor='val_acc', mode='max', verbose=1, save_best_only=True)"
   ]
  },
  {
   "cell_type": "code",
   "execution_count": 34,
   "metadata": {},
   "outputs": [
    {
     "data": {
      "image/png": "[encoded data removed]",
      "text/plain": [
       "<IPython.core.display.Image object>"
      ]
     },
     "execution_count": 34,
     "metadata": {},
     "output_type": "execute_result"
    }
   ],
   "source": [
    "#model structure visualization\n",
    "from tensorflow import keras\n",
    "from tensorflow.keras.utils import plot_model\n",
    "keras.utils.plot_model(model,show_shapes=True)"
   ]
  },
  {
   "cell_type": "code",
   "execution_count": null,
   "metadata": {
    "scrolled": false
   },
   "outputs": [
    {
     "name": "stdout",
     "output_type": "stream",
     "text": [
      "Epoch 1/10\n",
      "244/391 [=================>............] - ETA: 8:17 - loss: 0.6936 - acc: 0.5016"
     ]
    }
   ],
   "source": [
    "es = EarlyStopping(monitor='val_loss', mode='min', verbose=1, patience=4)\n",
    "mc = ModelCheckpoint('best_model.h5', monitor='val_acc', mode='max', verbose=1, save_best_only=True)\n",
    "model.compile(optimizer='Adam', loss='binary_crossentropy', metrics=['acc'])\n",
    "history = model.fit({'title':X_train_title,'body':X_train_body}, y_train, epochs=10, batch_size=256, verbose=1,callbacks=[es,mc],validation_data=[[X_val_title,X_val_body],y_val])"
   ]
  },
  {
   "cell_type": "code",
   "execution_count": null,
   "metadata": {
    "scrolled": false
   },
   "outputs": [],
   "source": [
    "#Diagnostic Plots\n",
    "plt.plot(history.history['loss'])\n",
    "plt.plot(history.history['val_loss'])\n",
    "plt.title('model train vs validation loss')\n",
    "plt.ylabel('loss')\n",
    "plt.xlabel('epoch')\n",
    "plt.legend(['train', 'validation'], loc='upper right')\n",
    "plt.show()"
   ]
  },
  {
   "cell_type": "code",
   "execution_count": null,
   "metadata": {},
   "outputs": [],
   "source": [
    "pd.DataFrame(history.history)"
   ]
  },
  {
   "cell_type": "code",
   "execution_count": null,
   "metadata": {
    "scrolled": true
   },
   "outputs": [],
   "source": [
    "#Diagnostic Plots\n",
    "plt.plot(history.history['acc'])\n",
    "plt.plot(history.history['val_acc'])\n",
    "plt.title('model train vs validation loss')\n",
    "plt.ylabel('acc')\n",
    "plt.xlabel('epoch')\n",
    "plt.legend(['train', 'validation'], loc='upper right')\n",
    "plt.show()"
   ]
  },
  {
   "cell_type": "code",
   "execution_count": null,
   "metadata": {},
   "outputs": [],
   "source": [
    "#정성적 평가\n",
    "#prediction = model.predict([X_val_title,X_val_body])\n",
    "#result = val.copy() #깊은 복사\n",
    "#result['prediction_CNN']=prediction \n",
    "#result.to_csv('result_실험제목.csv')"
   ]
  }
 ],
 "metadata": {
  "kernelspec": {
   "display_name": "Python 3",
   "language": "python",
   "name": "python3"
  },
  "language_info": {
   "codemirror_mode": {
    "name": "ipython",
    "version": 3
   },
   "file_extension": ".py",
   "mimetype": "text/x-python",
   "name": "python",
   "nbconvert_exporter": "python",
   "pygments_lexer": "ipython3",
   "version": "3.8.5"
  }
 },
 "nbformat": 4,
 "nbformat_minor": 4
}
